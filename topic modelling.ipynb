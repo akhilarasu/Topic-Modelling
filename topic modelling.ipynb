{
  "nbformat": 4,
  "nbformat_minor": 0,
  "metadata": {
    "kernelspec": {
      "display_name": "Python 3",
      "language": "python",
      "name": "python3"
    },
    "language_info": {
      "codemirror_mode": {
        "name": "ipython",
        "version": 3
      },
      "file_extension": ".py",
      "mimetype": "text/x-python",
      "name": "python",
      "nbconvert_exporter": "python",
      "pygments_lexer": "ipython3",
      "version": "3.7.3"
    },
    "colab": {
      "name": "1948004_prog10.ipynb",
      "provenance": []
    }
  },
  "cells": [
    {
      "cell_type": "markdown",
      "metadata": {
        "id": "QGYg59upRt9t"
      },
      "source": [
        "# TOPIC MODELLING\n",
        "UNSUPERVISED MACHINE LEARNING TO FIND TOPICS"
      ]
    },
    {
      "cell_type": "markdown",
      "metadata": {
        "id": "aZAV4Co7UIea"
      },
      "source": [
        "Topic modelling is a really useful tool to explore text data and find the latent topics contained within the data."
      ]
    },
    {
      "cell_type": "markdown",
      "metadata": {
        "id": "3pvttJIkSYMB"
      },
      "source": [
        "1. Installing packages"
      ]
    },
    {
      "cell_type": "code",
      "metadata": {
        "id": "I3p5QhGuRm3_"
      },
      "source": [
        "# packages to store and manipulate data\n",
        "import pandas as pd\n",
        "import numpy as np\n",
        "\n",
        "# plotting packages\n",
        "import matplotlib.pyplot as plt\n",
        "import seaborn as sns\n",
        "\n",
        "# model building package\n",
        "import sklearn\n",
        "\n",
        "# package to clean text\n",
        "import re"
      ],
      "execution_count": null,
      "outputs": []
    },
    {
      "cell_type": "code",
      "metadata": {
        "id": "E10kCICrRm4P",
        "outputId": "d9508763-6ac5-4e0f-9145-3cba894a2eb5"
      },
      "source": [
        "df = pd.read_csv(\"C:/Users/Akhil/Desktop/climate_tweets.csv\")\n",
        "df.head()"
      ],
      "execution_count": null,
      "outputs": [
        {
          "output_type": "execute_result",
          "data": {
            "text/html": [
              "<div>\n",
              "<style scoped>\n",
              "    .dataframe tbody tr th:only-of-type {\n",
              "        vertical-align: middle;\n",
              "    }\n",
              "\n",
              "    .dataframe tbody tr th {\n",
              "        vertical-align: top;\n",
              "    }\n",
              "\n",
              "    .dataframe thead th {\n",
              "        text-align: right;\n",
              "    }\n",
              "</style>\n",
              "<table border=\"1\" class=\"dataframe\">\n",
              "  <thead>\n",
              "    <tr style=\"text-align: right;\">\n",
              "      <th></th>\n",
              "      <th>tweet</th>\n",
              "    </tr>\n",
              "  </thead>\n",
              "  <tbody>\n",
              "    <tr>\n",
              "      <th>0</th>\n",
              "      <td>Global warming report urges governments to act...</td>\n",
              "    </tr>\n",
              "    <tr>\n",
              "      <th>1</th>\n",
              "      <td>Fighting poverty and global warming in Africa ...</td>\n",
              "    </tr>\n",
              "    <tr>\n",
              "      <th>2</th>\n",
              "      <td>Carbon offsets: How a Vatican forest failed to...</td>\n",
              "    </tr>\n",
              "    <tr>\n",
              "      <th>3</th>\n",
              "      <td>Carbon offsets: How a Vatican forest failed to...</td>\n",
              "    </tr>\n",
              "    <tr>\n",
              "      <th>4</th>\n",
              "      <td>URUGUAY: Tools Needed for Those Most Vulnerabl...</td>\n",
              "    </tr>\n",
              "  </tbody>\n",
              "</table>\n",
              "</div>"
            ],
            "text/plain": [
              "                                               tweet\n",
              "0  Global warming report urges governments to act...\n",
              "1  Fighting poverty and global warming in Africa ...\n",
              "2  Carbon offsets: How a Vatican forest failed to...\n",
              "3  Carbon offsets: How a Vatican forest failed to...\n",
              "4  URUGUAY: Tools Needed for Those Most Vulnerabl..."
            ]
          },
          "metadata": {
            "tags": []
          },
          "execution_count": 2
        }
      ]
    },
    {
      "cell_type": "markdown",
      "metadata": {
        "id": "bnLr7J_fSIdL"
      },
      "source": [
        "2. Exploratory data analysis"
      ]
    },
    {
      "cell_type": "code",
      "metadata": {
        "id": "r-GICEODRm4l"
      },
      "source": [
        "# two string variables for comparison\n",
        "string1 = 'climate'\n",
        "string2 = 'climb'"
      ],
      "execution_count": null,
      "outputs": []
    },
    {
      "cell_type": "code",
      "metadata": {
        "id": "M6IzA32BRm4w"
      },
      "source": [
        "# normal function example\n",
        "def my_normal_function(x):\n",
        "    return x**2 + 10\n",
        "# lambda function example\n",
        "my_lambda_function = lambda x: x**2 + 10"
      ],
      "execution_count": null,
      "outputs": []
    },
    {
      "cell_type": "markdown",
      "metadata": {
        "id": "lG3fOD0ZSg67"
      },
      "source": [
        "Finding Retweets"
      ]
    },
    {
      "cell_type": "code",
      "metadata": {
        "id": "SqyMR-wMRm4_",
        "outputId": "baa2a66b-decb-498c-837d-289c302eb78e"
      },
      "source": [
        "# make a new column to highlight retweets\n",
        "df['is_retweet'] = df['tweet'].apply(lambda x: x[:2]=='RT')\n",
        "df['is_retweet'].sum()  # number of retweets"
      ],
      "execution_count": null,
      "outputs": [
        {
          "output_type": "execute_result",
          "data": {
            "text/plain": [
              "773"
            ]
          },
          "metadata": {
            "tags": []
          },
          "execution_count": 5
        }
      ]
    },
    {
      "cell_type": "code",
      "metadata": {
        "id": "piO3x6amRm5P",
        "outputId": "71edbd44-64b0-44d5-ff44-8ec6f2456285"
      },
      "source": [
        " # number of unique retweets\n",
        "df.loc[df['is_retweet']].tweet.unique().size"
      ],
      "execution_count": null,
      "outputs": [
        {
          "output_type": "execute_result",
          "data": {
            "text/plain": [
              "677"
            ]
          },
          "metadata": {
            "tags": []
          },
          "execution_count": 6
        }
      ]
    },
    {
      "cell_type": "code",
      "metadata": {
        "id": "VW1CaNzbRm5Z",
        "outputId": "e819f3c2-a707-4dfd-f6e3-aa01ad49bdf1"
      },
      "source": [
        "# 10 most repeated tweets\n",
        "df.groupby(['tweet']).size().reset_index(name='counts')\\\n",
        "  .sort_values('counts', ascending=False).head(10)"
      ],
      "execution_count": null,
      "outputs": [
        {
          "output_type": "execute_result",
          "data": {
            "text/html": [
              "<div>\n",
              "<style scoped>\n",
              "    .dataframe tbody tr th:only-of-type {\n",
              "        vertical-align: middle;\n",
              "    }\n",
              "\n",
              "    .dataframe tbody tr th {\n",
              "        vertical-align: top;\n",
              "    }\n",
              "\n",
              "    .dataframe thead th {\n",
              "        text-align: right;\n",
              "    }\n",
              "</style>\n",
              "<table border=\"1\" class=\"dataframe\">\n",
              "  <thead>\n",
              "    <tr style=\"text-align: right;\">\n",
              "      <th></th>\n",
              "      <th>tweet</th>\n",
              "      <th>counts</th>\n",
              "    </tr>\n",
              "  </thead>\n",
              "  <tbody>\n",
              "    <tr>\n",
              "      <th>3131</th>\n",
              "      <td>No matter if you believe in global warming or ...</td>\n",
              "      <td>20</td>\n",
              "    </tr>\n",
              "    <tr>\n",
              "      <th>4555</th>\n",
              "      <td>Take Action @change: Help Protect Wildlife Hab...</td>\n",
              "      <td>14</td>\n",
              "    </tr>\n",
              "    <tr>\n",
              "      <th>4027</th>\n",
              "      <td>RT @newtgingrich: Historic snow storm in washi...</td>\n",
              "      <td>9</td>\n",
              "    </tr>\n",
              "    <tr>\n",
              "      <th>1765</th>\n",
              "      <td>Fight Climate Change From All Fronts: [link]</td>\n",
              "      <td>8</td>\n",
              "    </tr>\n",
              "    <tr>\n",
              "      <th>1626</th>\n",
              "      <td>Earth's polar ice sheets vulnerable to even mo...</td>\n",
              "      <td>7</td>\n",
              "    </tr>\n",
              "    <tr>\n",
              "      <th>1941</th>\n",
              "      <td>Global Warming Dent's El Ni'o's Protective Shi...</td>\n",
              "      <td>7</td>\n",
              "    </tr>\n",
              "    <tr>\n",
              "      <th>1799</th>\n",
              "      <td>Foes of California's global warming law pour m...</td>\n",
              "      <td>6</td>\n",
              "    </tr>\n",
              "    <tr>\n",
              "      <th>1351</th>\n",
              "      <td>Coalition of the Tired of Waiting: Fighting Cl...</td>\n",
              "      <td>6</td>\n",
              "    </tr>\n",
              "    <tr>\n",
              "      <th>4271</th>\n",
              "      <td>SCIENCE: Scientists explore the evolution of c...</td>\n",
              "      <td>6</td>\n",
              "    </tr>\n",
              "    <tr>\n",
              "      <th>1040</th>\n",
              "      <td>Carbon offsets: How a Vatican forest failed to...</td>\n",
              "      <td>6</td>\n",
              "    </tr>\n",
              "  </tbody>\n",
              "</table>\n",
              "</div>"
            ],
            "text/plain": [
              "                                                  tweet  counts\n",
              "3131  No matter if you believe in global warming or ...      20\n",
              "4555  Take Action @change: Help Protect Wildlife Hab...      14\n",
              "4027  RT @newtgingrich: Historic snow storm in washi...       9\n",
              "1765       Fight Climate Change From All Fronts: [link]       8\n",
              "1626  Earth's polar ice sheets vulnerable to even mo...       7\n",
              "1941  Global Warming Dent's El Ni'o's Protective Shi...       7\n",
              "1799  Foes of California's global warming law pour m...       6\n",
              "1351  Coalition of the Tired of Waiting: Fighting Cl...       6\n",
              "4271  SCIENCE: Scientists explore the evolution of c...       6\n",
              "1040  Carbon offsets: How a Vatican forest failed to...       6"
            ]
          },
          "metadata": {
            "tags": []
          },
          "execution_count": 7
        }
      ]
    },
    {
      "cell_type": "code",
      "metadata": {
        "id": "9kaog3HnRm5m",
        "outputId": "8b4d7ecd-f833-4ae1-9704-0c0532beb2f7"
      },
      "source": [
        "# number of times each tweet appears\n",
        "counts = df.groupby(['tweet']).size()\\\n",
        "           .reset_index(name='counts')\\\n",
        "           .counts\n",
        "\n",
        "# define bins for histogram\n",
        "my_bins = np.arange(0,counts.max()+2, 1)-0.5\n",
        "\n",
        "# plot histogram of tweet counts\n",
        "plt.figure()\n",
        "plt.hist(counts, bins = my_bins)\n",
        "plt.xlabels = np.arange(1,counts.max()+1, 1)\n",
        "plt.xlabel('copies of each tweet')\n",
        "plt.ylabel('frequency')\n",
        "plt.yscale('log', nonposy='clip')\n",
        "plt.show()"
      ],
      "execution_count": null,
      "outputs": [
        {
          "output_type": "display_data",
          "data": {
            "image/png": "[encoded data removed]",
            "text/plain": [
              "<Figure size 432x288 with 1 Axes>"
            ]
          },
          "metadata": {
            "tags": [],
            "needs_background": "light"
          }
        }
      ]
    },
    {
      "cell_type": "markdown",
      "metadata": {
        "id": "FyPdT4S5SoGu"
      },
      "source": [
        "3. Extracting substrings with regular expressions"
      ]
    },
    {
      "cell_type": "code",
      "metadata": {
        "id": "w-2NDXTBRm5x"
      },
      "source": [
        "def find_retweeted(tweet):\n",
        "    '''This function will extract the twitter handles of retweed people'''\n",
        "    return re.findall('(?<=RT\\s)(@[A-Za-z]+[A-Za-z0-9-_]+)', tweet)\n",
        "\n",
        "def find_mentioned(tweet):\n",
        "    '''This function will extract the twitter handles of people mentioned in the tweet'''\n",
        "    return re.findall('(?<!RT\\s)(@[A-Za-z]+[A-Za-z0-9-_]+)', tweet)  \n",
        "\n",
        "def find_hashtags(tweet):\n",
        "    '''This function will extract hashtags'''\n",
        "    return re.findall('(#[A-Za-z]+[A-Za-z0-9-_]+)', tweet)   "
      ],
      "execution_count": null,
      "outputs": []
    },
    {
      "cell_type": "code",
      "metadata": {
        "id": "d3BlSK01Rm57",
        "outputId": "32cc70ed-26d4-4301-8fb3-880bdf50fd70"
      },
      "source": [
        "# make new columns for retweeted usernames, mentioned usernames and hashtags\n",
        "df['retweeted'] = df.tweet.apply(find_retweeted)\n",
        "df['mentioned'] = df.tweet.apply(find_mentioned)\n",
        "df['hashtags'] = df.tweet.apply(find_hashtags)\n",
        "df.tail()"
      ],
      "execution_count": null,
      "outputs": [
        {
          "output_type": "execute_result",
          "data": {
            "text/html": [
              "<div>\n",
              "<style scoped>\n",
              "    .dataframe tbody tr th:only-of-type {\n",
              "        vertical-align: middle;\n",
              "    }\n",
              "\n",
              "    .dataframe tbody tr th {\n",
              "        vertical-align: top;\n",
              "    }\n",
              "\n",
              "    .dataframe thead th {\n",
              "        text-align: right;\n",
              "    }\n",
              "</style>\n",
              "<table border=\"1\" class=\"dataframe\">\n",
              "  <thead>\n",
              "    <tr style=\"text-align: right;\">\n",
              "      <th></th>\n",
              "      <th>tweet</th>\n",
              "      <th>is_retweet</th>\n",
              "      <th>retweeted</th>\n",
              "      <th>mentioned</th>\n",
              "      <th>hashtags</th>\n",
              "    </tr>\n",
              "  </thead>\n",
              "  <tbody>\n",
              "    <tr>\n",
              "      <th>6085</th>\n",
              "      <td>@bloodless_coup \"The phrase 'global warming' s...</td>\n",
              "      <td>False</td>\n",
              "      <td>[]</td>\n",
              "      <td>[@bloodless_coup]</td>\n",
              "      <td>[#p2, #tcot]</td>\n",
              "    </tr>\n",
              "    <tr>\n",
              "      <th>6086</th>\n",
              "      <td>Virginia to Investigate Global Warming Scienti...</td>\n",
              "      <td>False</td>\n",
              "      <td>[]</td>\n",
              "      <td>[]</td>\n",
              "      <td>[]</td>\n",
              "    </tr>\n",
              "    <tr>\n",
              "      <th>6087</th>\n",
              "      <td>Global warming you tube parody you will enjoy ...</td>\n",
              "      <td>False</td>\n",
              "      <td>[]</td>\n",
              "      <td>[]</td>\n",
              "      <td>[#IPCC, #ocra]</td>\n",
              "    </tr>\n",
              "    <tr>\n",
              "      <th>6088</th>\n",
              "      <td>One-Eyed Golfer: Don't dare tell me about glob...</td>\n",
              "      <td>False</td>\n",
              "      <td>[]</td>\n",
              "      <td>[]</td>\n",
              "      <td>[]</td>\n",
              "    </tr>\n",
              "    <tr>\n",
              "      <th>6089</th>\n",
              "      <td>man made global warming a hair brained theory ...</td>\n",
              "      <td>False</td>\n",
              "      <td>[]</td>\n",
              "      <td>[]</td>\n",
              "      <td>[#tcot, #p2, #climategate]</td>\n",
              "    </tr>\n",
              "  </tbody>\n",
              "</table>\n",
              "</div>"
            ],
            "text/plain": [
              "                                                  tweet  is_retweet retweeted  \\\n",
              "6085  @bloodless_coup \"The phrase 'global warming' s...       False        []   \n",
              "6086  Virginia to Investigate Global Warming Scienti...       False        []   \n",
              "6087  Global warming you tube parody you will enjoy ...       False        []   \n",
              "6088  One-Eyed Golfer: Don't dare tell me about glob...       False        []   \n",
              "6089  man made global warming a hair brained theory ...       False        []   \n",
              "\n",
              "              mentioned                    hashtags  \n",
              "6085  [@bloodless_coup]                [#p2, #tcot]  \n",
              "6086                 []                          []  \n",
              "6087                 []              [#IPCC, #ocra]  \n",
              "6088                 []                          []  \n",
              "6089                 []  [#tcot, #p2, #climategate]  "
            ]
          },
          "metadata": {
            "tags": []
          },
          "execution_count": 10
        }
      ]
    },
    {
      "cell_type": "markdown",
      "metadata": {
        "id": "qOz1_l-gS2_G"
      },
      "source": [
        "4. Keyword Correlations in Text"
      ]
    },
    {
      "cell_type": "code",
      "metadata": {
        "id": "ZubeZXKwRm6G",
        "outputId": "920cc3da-8645-4b78-8e53-f7a99952d2f3"
      },
      "source": [
        "# take the rows from the hashtag columns where there are actually hashtags\n",
        "hashtags_list_df = df.loc[\n",
        "                       df.hashtags.apply(\n",
        "                           lambda hashtags_list: hashtags_list !=[]\n",
        "                       ),['hashtags']]\n",
        "\n",
        "hashtags_list_df.head()"
      ],
      "execution_count": null,
      "outputs": [
        {
          "output_type": "execute_result",
          "data": {
            "text/html": [
              "<div>\n",
              "<style scoped>\n",
              "    .dataframe tbody tr th:only-of-type {\n",
              "        vertical-align: middle;\n",
              "    }\n",
              "\n",
              "    .dataframe tbody tr th {\n",
              "        vertical-align: top;\n",
              "    }\n",
              "\n",
              "    .dataframe thead th {\n",
              "        text-align: right;\n",
              "    }\n",
              "</style>\n",
              "<table border=\"1\" class=\"dataframe\">\n",
              "  <thead>\n",
              "    <tr style=\"text-align: right;\">\n",
              "      <th></th>\n",
              "      <th>hashtags</th>\n",
              "    </tr>\n",
              "  </thead>\n",
              "  <tbody>\n",
              "    <tr>\n",
              "      <th>12</th>\n",
              "      <td>[#Climate, #population]</td>\n",
              "    </tr>\n",
              "    <tr>\n",
              "      <th>16</th>\n",
              "      <td>[#EarthDay]</td>\n",
              "    </tr>\n",
              "    <tr>\n",
              "      <th>26</th>\n",
              "      <td>[#ac]</td>\n",
              "    </tr>\n",
              "    <tr>\n",
              "      <th>31</th>\n",
              "      <td>[#tcot]</td>\n",
              "    </tr>\n",
              "    <tr>\n",
              "      <th>36</th>\n",
              "      <td>[#tornadocot, #ocra, #sgp, #gop, #ucot, #tlot,...</td>\n",
              "    </tr>\n",
              "  </tbody>\n",
              "</table>\n",
              "</div>"
            ],
            "text/plain": [
              "                                             hashtags\n",
              "12                            [#Climate, #population]\n",
              "16                                        [#EarthDay]\n",
              "26                                              [#ac]\n",
              "31                                            [#tcot]\n",
              "36  [#tornadocot, #ocra, #sgp, #gop, #ucot, #tlot,..."
            ]
          },
          "metadata": {
            "tags": []
          },
          "execution_count": 11
        }
      ]
    },
    {
      "cell_type": "code",
      "metadata": {
        "id": "5BDT1MwLRm6R",
        "outputId": "89858273-07b7-456e-e22a-3a05e676f6b2"
      },
      "source": [
        "# create dataframe where each use of hashtag gets its own row\n",
        "flattened_hashtags_df = pd.DataFrame(\n",
        "    [hashtag for hashtags_list in hashtags_list_df.hashtags\n",
        "    for hashtag in hashtags_list],\n",
        "    columns=['hashtag'])\n",
        "\n",
        "flattened_hashtags_df.head()"
      ],
      "execution_count": null,
      "outputs": [
        {
          "output_type": "execute_result",
          "data": {
            "text/html": [
              "<div>\n",
              "<style scoped>\n",
              "    .dataframe tbody tr th:only-of-type {\n",
              "        vertical-align: middle;\n",
              "    }\n",
              "\n",
              "    .dataframe tbody tr th {\n",
              "        vertical-align: top;\n",
              "    }\n",
              "\n",
              "    .dataframe thead th {\n",
              "        text-align: right;\n",
              "    }\n",
              "</style>\n",
              "<table border=\"1\" class=\"dataframe\">\n",
              "  <thead>\n",
              "    <tr style=\"text-align: right;\">\n",
              "      <th></th>\n",
              "      <th>hashtag</th>\n",
              "    </tr>\n",
              "  </thead>\n",
              "  <tbody>\n",
              "    <tr>\n",
              "      <th>0</th>\n",
              "      <td>#Climate</td>\n",
              "    </tr>\n",
              "    <tr>\n",
              "      <th>1</th>\n",
              "      <td>#population</td>\n",
              "    </tr>\n",
              "    <tr>\n",
              "      <th>2</th>\n",
              "      <td>#EarthDay</td>\n",
              "    </tr>\n",
              "    <tr>\n",
              "      <th>3</th>\n",
              "      <td>#ac</td>\n",
              "    </tr>\n",
              "    <tr>\n",
              "      <th>4</th>\n",
              "      <td>#tcot</td>\n",
              "    </tr>\n",
              "  </tbody>\n",
              "</table>\n",
              "</div>"
            ],
            "text/plain": [
              "       hashtag\n",
              "0     #Climate\n",
              "1  #population\n",
              "2    #EarthDay\n",
              "3          #ac\n",
              "4        #tcot"
            ]
          },
          "metadata": {
            "tags": []
          },
          "execution_count": 12
        }
      ]
    },
    {
      "cell_type": "code",
      "metadata": {
        "id": "fQwMGzDARm6b",
        "outputId": "c62cd316-0a32-4bb9-b1a7-15a869e1890c"
      },
      "source": [
        "# number of unique hashtags\n",
        "flattened_hashtags_df['hashtag'].unique().size"
      ],
      "execution_count": null,
      "outputs": [
        {
          "output_type": "execute_result",
          "data": {
            "text/plain": [
              "477"
            ]
          },
          "metadata": {
            "tags": []
          },
          "execution_count": 13
        }
      ]
    },
    {
      "cell_type": "code",
      "metadata": {
        "id": "4yhLtIrGRm6l"
      },
      "source": [
        "# count of appearances of each hashtag\n",
        "popular_hashtags = flattened_hashtags_df.groupby('hashtag').size()\\\n",
        "                                        .reset_index(name='counts')\\\n",
        "                                        .sort_values('counts', ascending=False)\\\n",
        "                                        .reset_index(drop=True)"
      ],
      "execution_count": null,
      "outputs": []
    },
    {
      "cell_type": "code",
      "metadata": {
        "id": "S-gRZcsJRm6x",
        "outputId": "d5489f1e-d8ed-4da6-c57a-071b34210304"
      },
      "source": [
        "# number of times each hashtag appears\n",
        "counts = flattened_hashtags_df.groupby(['hashtag']).size()\\\n",
        "                              .reset_index(name='counts')\\\n",
        "                              .counts\n",
        "\n",
        "# define bins for histogram                              \n",
        "my_bins = np.arange(0,counts.max()+2, 5)-0.5\n",
        "\n",
        "# plot histogram of tweet counts\n",
        "plt.figure()\n",
        "plt.hist(counts, bins = my_bins)\n",
        "plt.xlabels = np.arange(1,counts.max()+1, 1)\n",
        "plt.xlabel('hashtag number of appearances')\n",
        "plt.ylabel('frequency')\n",
        "plt.yscale('log', nonposy='clip')\n",
        "plt.show()"
      ],
      "execution_count": null,
      "outputs": [
        {
          "output_type": "display_data",
          "data": {
            "image/png": "[encoded data removed]",
            "text/plain": [
              "<Figure size 432x288 with 1 Axes>"
            ]
          },
          "metadata": {
            "tags": [],
            "needs_background": "light"
          }
        }
      ]
    },
    {
      "cell_type": "markdown",
      "metadata": {
        "id": "IVxEXnnUS-vL"
      },
      "source": [
        "From Text to Vector"
      ]
    },
    {
      "cell_type": "code",
      "metadata": {
        "id": "xe25KWuJRm67"
      },
      "source": [
        "# take hashtags which appear at least this amount of times\n",
        "min_appearance = 10\n",
        "# find popular hashtags - make into python set for efficiency\n",
        "popular_hashtags_set = set(popular_hashtags[\n",
        "                           popular_hashtags.counts>=min_appearance\n",
        "                           ]['hashtag'])"
      ],
      "execution_count": null,
      "outputs": []
    },
    {
      "cell_type": "code",
      "metadata": {
        "id": "b7C3mJSYRm7G"
      },
      "source": [
        "# make a new column with only the popular hashtags\n",
        "hashtags_list_df['popular_hashtags'] = hashtags_list_df.hashtags.apply(\n",
        "            lambda hashtag_list: [hashtag for hashtag in hashtag_list\n",
        "                                  if hashtag in popular_hashtags_set])\n",
        "# drop rows without popular hashtag\n",
        "popular_hashtags_list_df = hashtags_list_df.loc[\n",
        "            hashtags_list_df.popular_hashtags.apply(lambda hashtag_list: hashtag_list !=[])]\n"
      ],
      "execution_count": null,
      "outputs": []
    },
    {
      "cell_type": "code",
      "metadata": {
        "id": "JKXPLV6pRm7O"
      },
      "source": [
        "# make new dataframe\n",
        "hashtag_vector_df = popular_hashtags_list_df.loc[:, ['popular_hashtags']]\n",
        "\n",
        "for hashtag in popular_hashtags_set:\n",
        "    # make columns to encode presence of hashtags\n",
        "    hashtag_vector_df['{}'.format(hashtag)] = hashtag_vector_df.popular_hashtags.apply(\n",
        "        lambda hashtag_list: int(hashtag in hashtag_list))\n",
        "    \n",
        "    "
      ],
      "execution_count": null,
      "outputs": []
    },
    {
      "cell_type": "markdown",
      "metadata": {
        "id": "OtOEhwBKTIDM"
      },
      "source": [
        "5. Cleaning Unstructured Text Data"
      ]
    },
    {
      "cell_type": "code",
      "metadata": {
        "id": "Zp6gfNHbRm7W"
      },
      "source": [
        "import nltk\n",
        "from nltk.tokenize import RegexpTokenizer\n",
        "from nltk.corpus import stopwords"
      ],
      "execution_count": null,
      "outputs": []
    },
    {
      "cell_type": "code",
      "metadata": {
        "id": "Jmr_8wJhRm7b"
      },
      "source": [
        "def remove_links(tweet):\n",
        "    '''Takes a string and removes web links from it'''\n",
        "    tweet = re.sub(r'http\\S+', '', tweet) # remove http links\n",
        "    tweet = re.sub(r'bit.ly/\\S+', '', tweet) # rempve bitly links\n",
        "    tweet = tweet.strip('[link]') # remove [links]\n",
        "    return tweet\n",
        "\n",
        "def remove_users(tweet):\n",
        "    '''Takes a string and removes retweet and @user information'''\n",
        "    tweet = re.sub('(RT\\s@[A-Za-z]+[A-Za-z0-9-_]+)', '', tweet) # remove retweet\n",
        "    tweet = re.sub('(@[A-Za-z]+[A-Za-z0-9-_]+)', '', tweet) # remove tweeted at\n",
        "    return tweet"
      ],
      "execution_count": null,
      "outputs": []
    },
    {
      "cell_type": "code",
      "metadata": {
        "id": "Kdk4vtXwRm7f"
      },
      "source": [
        "my_stopwords = nltk.corpus.stopwords.words('english')\n",
        "word_rooter = nltk.stem.snowball.PorterStemmer(ignore_stopwords=False).stem\n",
        "my_punctuation = '!\"$%&\\'()*+,-./:;<=>?[\\\\]^_`{|}~•@'\n",
        "\n",
        "# cleaning master function\n",
        "def clean_tweet(tweet, bigrams=False):\n",
        "    tweet = remove_users(tweet)\n",
        "    tweet = remove_links(tweet)\n",
        "    tweet = tweet.lower() # lower case\n",
        "    tweet = re.sub('['+my_punctuation + ']+', ' ', tweet) # strip punctuation\n",
        "    tweet = re.sub('\\s+', ' ', tweet) #remove double spacing\n",
        "    tweet = re.sub('([0-9]+)', '', tweet) # remove numbers\n",
        "    tweet_token_list = [word for word in tweet.split(' ')\n",
        "                            if word not in my_stopwords] # remove stopwords\n",
        "\n",
        "    tweet_token_list = [word_rooter(word) if '#' not in word else word\n",
        "                        for word in tweet_token_list] # apply word rooter\n",
        "    if bigrams:\n",
        "        tweet_token_list = tweet_token_list+[tweet_token_list[i]+'_'+tweet_token_list[i+1]\n",
        "                                            for i in range(len(tweet_token_list)-1)]\n",
        "    tweet = ' '.join(tweet_token_list)\n",
        "    return tweet"
      ],
      "execution_count": null,
      "outputs": []
    },
    {
      "cell_type": "code",
      "metadata": {
        "id": "lYnyDe3aRm7j",
        "outputId": "62ba30c3-dfe7-423f-9504-d526557dd2f9"
      },
      "source": [
        "df['clean_tweet'] = df.tweet.apply(clean_tweet)\n",
        "df.head()"
      ],
      "execution_count": null,
      "outputs": [
        {
          "output_type": "execute_result",
          "data": {
            "text/html": [
              "<div>\n",
              "<style scoped>\n",
              "    .dataframe tbody tr th:only-of-type {\n",
              "        vertical-align: middle;\n",
              "    }\n",
              "\n",
              "    .dataframe tbody tr th {\n",
              "        vertical-align: top;\n",
              "    }\n",
              "\n",
              "    .dataframe thead th {\n",
              "        text-align: right;\n",
              "    }\n",
              "</style>\n",
              "<table border=\"1\" class=\"dataframe\">\n",
              "  <thead>\n",
              "    <tr style=\"text-align: right;\">\n",
              "      <th></th>\n",
              "      <th>tweet</th>\n",
              "      <th>is_retweet</th>\n",
              "      <th>retweeted</th>\n",
              "      <th>mentioned</th>\n",
              "      <th>hashtags</th>\n",
              "      <th>clean_tweet</th>\n",
              "    </tr>\n",
              "  </thead>\n",
              "  <tbody>\n",
              "    <tr>\n",
              "      <th>0</th>\n",
              "      <td>Global warming report urges governments to act...</td>\n",
              "      <td>False</td>\n",
              "      <td>[]</td>\n",
              "      <td>[]</td>\n",
              "      <td>[]</td>\n",
              "      <td>global warm report urg govern act brussel belg...</td>\n",
              "    </tr>\n",
              "    <tr>\n",
              "      <th>1</th>\n",
              "      <td>Fighting poverty and global warming in Africa ...</td>\n",
              "      <td>False</td>\n",
              "      <td>[]</td>\n",
              "      <td>[]</td>\n",
              "      <td>[]</td>\n",
              "      <td>fight poverti global warm africa</td>\n",
              "    </tr>\n",
              "    <tr>\n",
              "      <th>2</th>\n",
              "      <td>Carbon offsets: How a Vatican forest failed to...</td>\n",
              "      <td>False</td>\n",
              "      <td>[]</td>\n",
              "      <td>[]</td>\n",
              "      <td>[]</td>\n",
              "      <td>carbon offset vatican forest fail reduc global...</td>\n",
              "    </tr>\n",
              "    <tr>\n",
              "      <th>3</th>\n",
              "      <td>Carbon offsets: How a Vatican forest failed to...</td>\n",
              "      <td>False</td>\n",
              "      <td>[]</td>\n",
              "      <td>[]</td>\n",
              "      <td>[]</td>\n",
              "      <td>carbon offset vatican forest fail reduc global...</td>\n",
              "    </tr>\n",
              "    <tr>\n",
              "      <th>4</th>\n",
              "      <td>URUGUAY: Tools Needed for Those Most Vulnerabl...</td>\n",
              "      <td>False</td>\n",
              "      <td>[]</td>\n",
              "      <td>[]</td>\n",
              "      <td>[]</td>\n",
              "      <td>uruguay tool need vulner climat chang</td>\n",
              "    </tr>\n",
              "  </tbody>\n",
              "</table>\n",
              "</div>"
            ],
            "text/plain": [
              "                                               tweet  is_retweet retweeted  \\\n",
              "0  Global warming report urges governments to act...       False        []   \n",
              "1  Fighting poverty and global warming in Africa ...       False        []   \n",
              "2  Carbon offsets: How a Vatican forest failed to...       False        []   \n",
              "3  Carbon offsets: How a Vatican forest failed to...       False        []   \n",
              "4  URUGUAY: Tools Needed for Those Most Vulnerabl...       False        []   \n",
              "\n",
              "  mentioned hashtags                                        clean_tweet  \n",
              "0        []       []  global warm report urg govern act brussel belg...  \n",
              "1        []       []                  fight poverti global warm africa   \n",
              "2        []       []  carbon offset vatican forest fail reduc global...  \n",
              "3        []       []  carbon offset vatican forest fail reduc global...  \n",
              "4        []       []             uruguay tool need vulner climat chang   "
            ]
          },
          "metadata": {
            "tags": []
          },
          "execution_count": 23
        }
      ]
    },
    {
      "cell_type": "markdown",
      "metadata": {
        "id": "aZiMNKRzTR9s"
      },
      "source": [
        "6. Applying Topic Modelling"
      ]
    },
    {
      "cell_type": "code",
      "metadata": {
        "id": "QsslAnVGRm7m"
      },
      "source": [
        "from sklearn.feature_extraction.text import CountVectorizer\n",
        "\n",
        "# the vectorizer object will be used to transform text to vector form\n",
        "vectorizer = CountVectorizer(max_df=0.9, min_df=25, token_pattern='\\w+|\\$[\\d\\.]+|\\S+')\n",
        "\n",
        "# apply transformation\n",
        "tf = vectorizer.fit_transform(df['clean_tweet']).toarray()\n",
        "\n",
        "# tf_feature_names tells us what word each column in the matric represents\n",
        "tf_feature_names = vectorizer.get_feature_names()"
      ],
      "execution_count": null,
      "outputs": []
    },
    {
      "cell_type": "code",
      "metadata": {
        "id": "mtu_5WBrRm7p"
      },
      "source": [
        "from sklearn.decomposition import LatentDirichletAllocation\n",
        "\n",
        "number_of_topics = 10\n",
        "\n",
        "model = LatentDirichletAllocation(n_components=number_of_topics, random_state=0)"
      ],
      "execution_count": null,
      "outputs": []
    },
    {
      "cell_type": "code",
      "metadata": {
        "id": "ZaiAT9jSRm7t",
        "outputId": "41a10e4f-5906-4a90-ed2b-8b7ca473a3b9"
      },
      "source": [
        "model.fit(tf)"
      ],
      "execution_count": null,
      "outputs": [
        {
          "output_type": "execute_result",
          "data": {
            "text/plain": [
              "LatentDirichletAllocation(batch_size=128, doc_topic_prior=None,\n",
              "             evaluate_every=-1, learning_decay=0.7,\n",
              "             learning_method='batch', learning_offset=10.0,\n",
              "             max_doc_update_iter=100, max_iter=10, mean_change_tol=0.001,\n",
              "             n_components=10, n_jobs=None, n_topics=None, perp_tol=0.1,\n",
              "             random_state=0, topic_word_prior=None,\n",
              "             total_samples=1000000.0, verbose=0)"
            ]
          },
          "metadata": {
            "tags": []
          },
          "execution_count": 33
        }
      ]
    },
    {
      "cell_type": "code",
      "metadata": {
        "id": "THXi8B9eRm71"
      },
      "source": [
        "def display_topics(model, feature_names, no_top_words):\n",
        "    topic_dict = {}\n",
        "    for topic_idx, topic in enumerate(model.components_):\n",
        "        topic_dict[\"Topic %d words\" % (topic_idx)]= ['{}'.format(feature_names[i])\n",
        "                        for i in topic.argsort()[:-no_top_words - 1:-1]]\n",
        "        topic_dict[\"Topic %d weights\" % (topic_idx)]= ['{:.1f}'.format(topic[i])\n",
        "                        for i in topic.argsort()[:-no_top_words - 1:-1]]\n",
        "    return pd.DataFrame(topic_dict)"
      ],
      "execution_count": null,
      "outputs": []
    },
    {
      "cell_type": "code",
      "metadata": {
        "id": "drgS_uocRm73",
        "outputId": "6325fce6-ec63-4949-ab77-1ee6a5cf239b"
      },
      "source": [
        "no_top_words = 10\n",
        "display_topics(model, tf_feature_names, no_top_words)"
      ],
      "execution_count": null,
      "outputs": [
        {
          "output_type": "execute_result",
          "data": {
            "text/html": [
              "<div>\n",
              "<style scoped>\n",
              "    .dataframe tbody tr th:only-of-type {\n",
              "        vertical-align: middle;\n",
              "    }\n",
              "\n",
              "    .dataframe tbody tr th {\n",
              "        vertical-align: top;\n",
              "    }\n",
              "\n",
              "    .dataframe thead th {\n",
              "        text-align: right;\n",
              "    }\n",
              "</style>\n",
              "<table border=\"1\" class=\"dataframe\">\n",
              "  <thead>\n",
              "    <tr style=\"text-align: right;\">\n",
              "      <th></th>\n",
              "      <th>Topic 0 words</th>\n",
              "      <th>Topic 0 weights</th>\n",
              "      <th>Topic 1 words</th>\n",
              "      <th>Topic 1 weights</th>\n",
              "      <th>Topic 2 words</th>\n",
              "      <th>Topic 2 weights</th>\n",
              "      <th>Topic 3 words</th>\n",
              "      <th>Topic 3 weights</th>\n",
              "      <th>Topic 4 words</th>\n",
              "      <th>Topic 4 weights</th>\n",
              "      <th>Topic 5 words</th>\n",
              "      <th>Topic 5 weights</th>\n",
              "      <th>Topic 6 words</th>\n",
              "      <th>Topic 6 weights</th>\n",
              "      <th>Topic 7 words</th>\n",
              "      <th>Topic 7 weights</th>\n",
              "      <th>Topic 8 words</th>\n",
              "      <th>Topic 8 weights</th>\n",
              "      <th>Topic 9 words</th>\n",
              "      <th>Topic 9 weights</th>\n",
              "    </tr>\n",
              "  </thead>\n",
              "  <tbody>\n",
              "    <tr>\n",
              "      <th>0</th>\n",
              "      <td>climat</td>\n",
              "      <td>1220.2</td>\n",
              "      <td>global</td>\n",
              "      <td>666.5</td>\n",
              "      <td>global</td>\n",
              "      <td>1147.2</td>\n",
              "      <td>global</td>\n",
              "      <td>473.1</td>\n",
              "      <td>climat</td>\n",
              "      <td>422.0</td>\n",
              "      <td>global</td>\n",
              "      <td>783.0</td>\n",
              "      <td>chang</td>\n",
              "      <td>666.1</td>\n",
              "      <td>warm</td>\n",
              "      <td>167.9</td>\n",
              "      <td>climat</td>\n",
              "      <td>568.3</td>\n",
              "      <td>climat</td>\n",
              "      <td>529.9</td>\n",
              "    </tr>\n",
              "    <tr>\n",
              "      <th>1</th>\n",
              "      <td>chang</td>\n",
              "      <td>1184.5</td>\n",
              "      <td>warm</td>\n",
              "      <td>658.1</td>\n",
              "      <td>warm</td>\n",
              "      <td>1102.1</td>\n",
              "      <td>warm</td>\n",
              "      <td>450.7</td>\n",
              "      <td>chang</td>\n",
              "      <td>401.8</td>\n",
              "      <td>warm</td>\n",
              "      <td>764.7</td>\n",
              "      <td>climat</td>\n",
              "      <td>661.6</td>\n",
              "      <td>#climate</td>\n",
              "      <td>139.2</td>\n",
              "      <td>chang</td>\n",
              "      <td>550.5</td>\n",
              "      <td>chang</td>\n",
              "      <td>520.6</td>\n",
              "    </tr>\n",
              "    <tr>\n",
              "      <th>2</th>\n",
              "      <td>via</td>\n",
              "      <td>257.9</td>\n",
              "      <td>snow</td>\n",
              "      <td>160.5</td>\n",
              "      <td>scientist</td>\n",
              "      <td>150.2</td>\n",
              "      <td>believ</td>\n",
              "      <td>101.3</td>\n",
              "      <td>legisl</td>\n",
              "      <td>123.2</td>\n",
              "      <td>gore</td>\n",
              "      <td>137.1</td>\n",
              "      <td>energi</td>\n",
              "      <td>178.8</td>\n",
              "      <td>volcano</td>\n",
              "      <td>128.9</td>\n",
              "      <td>new</td>\n",
              "      <td>321.1</td>\n",
              "      <td>peopl</td>\n",
              "      <td>153.4</td>\n",
              "    </tr>\n",
              "    <tr>\n",
              "      <th>3</th>\n",
              "      <td>scienc</td>\n",
              "      <td>112.9</td>\n",
              "      <td>#tcot</td>\n",
              "      <td>121.6</td>\n",
              "      <td>say</td>\n",
              "      <td>87.1</td>\n",
              "      <td>california</td>\n",
              "      <td>87.1</td>\n",
              "      <td>us</td>\n",
              "      <td>105.1</td>\n",
              "      <td>snow</td>\n",
              "      <td>123.7</td>\n",
              "      <td>u</td>\n",
              "      <td>109.8</td>\n",
              "      <td>global</td>\n",
              "      <td>128.6</td>\n",
              "      <td>bill</td>\n",
              "      <td>116.9</td>\n",
              "      <td>world</td>\n",
              "      <td>151.3</td>\n",
              "    </tr>\n",
              "    <tr>\n",
              "      <th>4</th>\n",
              "      <td>news</td>\n",
              "      <td>79.5</td>\n",
              "      <td>like</td>\n",
              "      <td>99.0</td>\n",
              "      <td>scienc</td>\n",
              "      <td>71.7</td>\n",
              "      <td>blame</td>\n",
              "      <td>82.1</td>\n",
              "      <td>via</td>\n",
              "      <td>60.5</td>\n",
              "      <td>al</td>\n",
              "      <td>122.1</td>\n",
              "      <td>via</td>\n",
              "      <td>96.5</td>\n",
              "      <td>chang</td>\n",
              "      <td>122.0</td>\n",
              "      <td>senat</td>\n",
              "      <td>106.1</td>\n",
              "      <td>confer</td>\n",
              "      <td>110.1</td>\n",
              "    </tr>\n",
              "    <tr>\n",
              "      <th>5</th>\n",
              "      <td>day</td>\n",
              "      <td>77.8</td>\n",
              "      <td>blizzard</td>\n",
              "      <td>90.9</td>\n",
              "      <td>debat</td>\n",
              "      <td>66.6</td>\n",
              "      <td>law</td>\n",
              "      <td>78.6</td>\n",
              "      <td>say</td>\n",
              "      <td>55.9</td>\n",
              "      <td>great</td>\n",
              "      <td>94.1</td>\n",
              "      <td>nation</td>\n",
              "      <td>89.0</td>\n",
              "      <td>help</td>\n",
              "      <td>114.1</td>\n",
              "      <td>agenc</td>\n",
              "      <td>95.1</td>\n",
              "      <td>bill</td>\n",
              "      <td>106.4</td>\n",
              "    </tr>\n",
              "    <tr>\n",
              "      <th>6</th>\n",
              "      <td>earth</td>\n",
              "      <td>68.2</td>\n",
              "      <td>dc</td>\n",
              "      <td>86.5</td>\n",
              "      <td>man</td>\n",
              "      <td>61.1</td>\n",
              "      <td>report</td>\n",
              "      <td>77.8</td>\n",
              "      <td>video</td>\n",
              "      <td>55.9</td>\n",
              "      <td>cold</td>\n",
              "      <td>77.1</td>\n",
              "      <td>make</td>\n",
              "      <td>74.5</td>\n",
              "      <td>take</td>\n",
              "      <td>96.8</td>\n",
              "      <td>immigr</td>\n",
              "      <td>77.7</td>\n",
              "      <td>talk</td>\n",
              "      <td>94.8</td>\n",
              "    </tr>\n",
              "    <tr>\n",
              "      <th>7</th>\n",
              "      <td>trial</td>\n",
              "      <td>68.1</td>\n",
              "      <td>think</td>\n",
              "      <td>83.3</td>\n",
              "      <td>made</td>\n",
              "      <td>54.0</td>\n",
              "      <td>save</td>\n",
              "      <td>61.8</td>\n",
              "      <td>place</td>\n",
              "      <td>54.1</td>\n",
              "      <td>call</td>\n",
              "      <td>76.5</td>\n",
              "      <td>impact</td>\n",
              "      <td>67.5</td>\n",
              "      <td>climat</td>\n",
              "      <td>76.7</td>\n",
              "      <td>obama</td>\n",
              "      <td>75.6</td>\n",
              "      <td>graham</td>\n",
              "      <td>92.1</td>\n",
              "    </tr>\n",
              "    <tr>\n",
              "      <th>8</th>\n",
              "      <td>clinic</td>\n",
              "      <td>68.1</td>\n",
              "      <td>due</td>\n",
              "      <td>80.1</td>\n",
              "      <td>show</td>\n",
              "      <td>51.9</td>\n",
              "      <td>money</td>\n",
              "      <td>56.1</td>\n",
              "      <td>good</td>\n",
              "      <td>52.6</td>\n",
              "      <td>#tcot</td>\n",
              "      <td>75.3</td>\n",
              "      <td>report</td>\n",
              "      <td>63.4</td>\n",
              "      <td>iceland</td>\n",
              "      <td>67.1</td>\n",
              "      <td>feder</td>\n",
              "      <td>67.1</td>\n",
              "      <td>un</td>\n",
              "      <td>77.6</td>\n",
              "    </tr>\n",
              "    <tr>\n",
              "      <th>9</th>\n",
              "      <td>carbon</td>\n",
              "      <td>64.5</td>\n",
              "      <td>make</td>\n",
              "      <td>70.4</td>\n",
              "      <td>water</td>\n",
              "      <td>50.6</td>\n",
              "      <td>live</td>\n",
              "      <td>49.3</td>\n",
              "      <td>human</td>\n",
              "      <td>48.2</td>\n",
              "      <td>one</td>\n",
              "      <td>72.1</td>\n",
              "      <td>issu</td>\n",
              "      <td>58.8</td>\n",
              "      <td>could</td>\n",
              "      <td>64.5</td>\n",
              "      <td>via</td>\n",
              "      <td>58.6</td>\n",
              "      <td>put</td>\n",
              "      <td>68.8</td>\n",
              "    </tr>\n",
              "  </tbody>\n",
              "</table>\n",
              "</div>"
            ],
            "text/plain": [
              "  Topic 0 words Topic 0 weights Topic 1 words Topic 1 weights Topic 2 words  \\\n",
              "0        climat          1220.2        global           666.5        global   \n",
              "1         chang          1184.5          warm           658.1          warm   \n",
              "2           via           257.9          snow           160.5     scientist   \n",
              "3        scienc           112.9         #tcot           121.6           say   \n",
              "4          news            79.5          like            99.0        scienc   \n",
              "5           day            77.8      blizzard            90.9         debat   \n",
              "6         earth            68.2            dc            86.5           man   \n",
              "7         trial            68.1         think            83.3          made   \n",
              "8        clinic            68.1           due            80.1          show   \n",
              "9        carbon            64.5          make            70.4         water   \n",
              "\n",
              "  Topic 2 weights Topic 3 words Topic 3 weights Topic 4 words Topic 4 weights  \\\n",
              "0          1147.2        global           473.1        climat           422.0   \n",
              "1          1102.1          warm           450.7         chang           401.8   \n",
              "2           150.2        believ           101.3        legisl           123.2   \n",
              "3            87.1    california            87.1            us           105.1   \n",
              "4            71.7         blame            82.1           via            60.5   \n",
              "5            66.6           law            78.6           say            55.9   \n",
              "6            61.1        report            77.8         video            55.9   \n",
              "7            54.0          save            61.8         place            54.1   \n",
              "8            51.9         money            56.1          good            52.6   \n",
              "9            50.6          live            49.3         human            48.2   \n",
              "\n",
              "  Topic 5 words Topic 5 weights Topic 6 words Topic 6 weights Topic 7 words  \\\n",
              "0        global           783.0         chang           666.1          warm   \n",
              "1          warm           764.7        climat           661.6      #climate   \n",
              "2          gore           137.1        energi           178.8       volcano   \n",
              "3          snow           123.7             u           109.8        global   \n",
              "4            al           122.1           via            96.5         chang   \n",
              "5         great            94.1        nation            89.0          help   \n",
              "6          cold            77.1          make            74.5          take   \n",
              "7          call            76.5        impact            67.5        climat   \n",
              "8         #tcot            75.3        report            63.4       iceland   \n",
              "9           one            72.1          issu            58.8         could   \n",
              "\n",
              "  Topic 7 weights Topic 8 words Topic 8 weights Topic 9 words Topic 9 weights  \n",
              "0           167.9        climat           568.3        climat           529.9  \n",
              "1           139.2         chang           550.5         chang           520.6  \n",
              "2           128.9           new           321.1         peopl           153.4  \n",
              "3           128.6          bill           116.9         world           151.3  \n",
              "4           122.0         senat           106.1        confer           110.1  \n",
              "5           114.1         agenc            95.1          bill           106.4  \n",
              "6            96.8        immigr            77.7          talk            94.8  \n",
              "7            76.7         obama            75.6        graham            92.1  \n",
              "8            67.1         feder            67.1            un            77.6  \n",
              "9            64.5           via            58.6           put            68.8  "
            ]
          },
          "metadata": {
            "tags": []
          },
          "execution_count": 35
        }
      ]
    },
    {
      "cell_type": "markdown",
      "metadata": {
        "id": "TgYvVp15TjKm"
      },
      "source": [
        "# Inference"
      ]
    },
    {
      "cell_type": "markdown",
      "metadata": {
        "id": "X1CVkcF8TocY"
      },
      "source": [
        "I found that my topics almost all had global warming or climate change at the top of the list. This indicates that the data i.e, tweets is almost regarding the climate change due to global warming. In addition, we already knew that the dataset was tweets about climate. Thus topic modelling's result obtained is obvious."
      ]
    }
  ]
}